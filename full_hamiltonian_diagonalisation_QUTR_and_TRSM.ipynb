{
 "cells": [
  {
   "cell_type": "code",
   "execution_count": 1,
   "metadata": {},
   "outputs": [],
   "source": [
    "import numpy as np\n",
    "pi = np.pi"
   ]
  },
  {
   "cell_type": "code",
   "execution_count": 2,
   "metadata": {},
   "outputs": [],
   "source": [
    "wq_list = np.loadtxt('qubit_params/FOR_E_lvl_Ec0.190_Ej14.368.txt')\n",
    "\n",
    "Nq = 5\n",
    "Nr = 30\n",
    "wr = 7.415\n",
    "\n",
    "wq_tmp = np.zeros( (Nq,Nq), dtype='float64' )\n",
    "for i in range(Nq):\n",
    "    wq_tmp[i,i] = wq_list[i]\n",
    "wq = np.kron( wq_tmp, np.identity(Nr) )\n",
    "\n",
    "a_temp = np.zeros( (Nr,Nr) )\n",
    "for i in range(Nr-1):\n",
    "\ta_temp[i,i+1] = np.sqrt(i+1) \n",
    "a = np.kron( np.identity(Nq), a_temp )\n",
    "a_dag = np.transpose( a )\n",
    "\n",
    "H_0 = wq + wr*a_dag.dot(a)"
   ]
  },
  {
   "cell_type": "code",
   "execution_count": 3,
   "metadata": {},
   "outputs": [
    {
     "name": "stdout",
     "output_type": "stream",
     "text": [
      "bare_qubit_eigs = [ 0.          4.47119299  8.73117987 12.76077742]\n",
      "anh = -0.21120610580436683\n"
     ]
    }
   ],
   "source": [
    "print( 'bare_qubit_eigs =', wq_list[0:4] )\n",
    "print( 'anh =', wq_list[2]-2*wq_list[1] )"
   ]
  },
  {
   "cell_type": "markdown",
   "metadata": {},
   "source": [
    "### TRANSVERSE COUPLING ###"
   ]
  },
  {
   "cell_type": "code",
   "execution_count": 4,
   "metadata": {},
   "outputs": [
    {
     "name": "stdout",
     "output_type": "stream",
     "text": [
      "===================================================\n",
      "-- Diagonalisation Transmon\n",
      "eigs = [ 0.          4.46410508  7.41931704  8.71839287 11.88222148 12.74362343]\n",
      "wc_qubit_excited_T =  7.418116396224268\n",
      "wc_qubit_ground_T =  7.419317042690504\n",
      "2*ki =  -0.0012006464662359662\n",
      "w_q mean =  7.418716719457386\n"
     ]
    }
   ],
   "source": [
    "#g_qr = -0.159\n",
    "g_qr_T = -0.10725\n",
    "charge_op= np.loadtxt( 'qubit_params/FOR_Charge_Mat_Ec0.190_Ej14.368.txt' )\n",
    "gij = g_qr_T*np.kron( charge_op[:Nq,:Nq] , np.identity(Nr) )\n",
    "\n",
    "H_T = H_0 + gij.dot( a + a_dag )\n",
    "eigs_T = np.sort( np.linalg.eig( H_T )[0] )\n",
    "eigs_T = np.real( eigs_T - eigs_T[0] )\n",
    "wc_qubit_excited_T = eigs_T[4] - eigs_T[1] \n",
    "wc_qubit_ground_T = eigs_T[2] \n",
    "wc_mean_T = (wc_qubit_excited_T + wc_qubit_ground_T)/2\n",
    "\n",
    "print(\"===================================================\")\n",
    "print(\"-- Diagonalisation Transmon\")\n",
    "print('eigs =', eigs_T[0:6] )\n",
    "print('wc_qubit_excited_T = ', wc_qubit_excited_T)\n",
    "print('wc_qubit_ground_T = ', wc_qubit_ground_T)\n",
    "print('2*ki = ', wc_qubit_excited_T - wc_qubit_ground_T)\n",
    "print(\"w_q mean = \", wc_mean_T)"
   ]
  },
  {
   "cell_type": "markdown",
   "metadata": {},
   "source": [
    "### LONGITUDINAL COUPLING ###"
   ]
  },
  {
   "cell_type": "code",
   "execution_count": 5,
   "metadata": {},
   "outputs": [
    {
     "name": "stdout",
     "output_type": "stream",
     "text": [
      "===================================================\n",
      "-- Diagonalisation Quantromon\n",
      "eigs = [ 0.          4.47119346  7.42177689  8.73118066 11.89176938 12.7607785 ]\n",
      "wc_qubit_excited_L =  7.420575921269783\n",
      "wc_qubit_ground_L =  7.421776894150346\n",
      "2*ki =  -0.0012009728805635334\n",
      "w_q mean =  7.421176407710064\n"
     ]
    }
   ],
   "source": [
    "g_qr_L = 0.00369\n",
    "cos_phi_q_op= np.loadtxt('qubit_params/FOR_Cos_Phi_q_Mat_Ec0.190_Ej14.368.txt')\n",
    "gij = g_qr_L*np.kron( cos_phi_q_op[:Nq,:Nq] , np.identity(Nr) )\n",
    "\n",
    "H_L = H_0 + gij.dot( a.dot(a) + a_dag.dot(a_dag) + 2*a_dag.dot(a) )\n",
    "eigs_L = np.sort( np.linalg.eig( H_L )[0] )\n",
    "eigs_L = np.real( eigs_L - eigs_L[0] )\n",
    "wc_qubit_excited_L = eigs_L[4] - eigs_L[1] \n",
    "wc_qubit_ground_L = eigs_L[2] \n",
    "wc_mean_L = (wc_qubit_excited_L + wc_qubit_ground_L)/2\n",
    "\n",
    "print(\"===================================================\")\n",
    "print(\"-- Diagonalisation Quantromon\")\n",
    "print('eigs =', eigs_L[0:6] )\n",
    "print('wc_qubit_excited_L = ', wc_qubit_excited_L)\n",
    "print('wc_qubit_ground_L = ', wc_qubit_ground_L)\n",
    "print('2*ki = ', wc_qubit_excited_L - wc_qubit_ground_L)\n",
    "print(\"w_q mean = \", wc_mean_L)"
   ]
  },
  {
   "cell_type": "code",
   "execution_count": 6,
   "metadata": {},
   "outputs": [
    {
     "data": {
      "text/plain": [
       "-29.0650406504065"
      ]
     },
     "execution_count": 6,
     "metadata": {},
     "output_type": "execute_result"
    }
   ],
   "source": [
    "g_qr_T / g_qr_L"
   ]
  },
  {
   "cell_type": "code",
   "execution_count": null,
   "metadata": {},
   "outputs": [],
   "source": []
  }
 ],
 "metadata": {
  "kernelspec": {
   "display_name": "Python 3 (ipykernel)",
   "language": "python",
   "name": "python3"
  },
  "language_info": {
   "codemirror_mode": {
    "name": "ipython",
    "version": 3
   },
   "file_extension": ".py",
   "mimetype": "text/x-python",
   "name": "python",
   "nbconvert_exporter": "python",
   "pygments_lexer": "ipython3",
   "version": "3.8.16"
  }
 },
 "nbformat": 4,
 "nbformat_minor": 4
}
