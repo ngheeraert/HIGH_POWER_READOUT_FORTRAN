{
 "cells": [
  {
   "cell_type": "code",
   "execution_count": 1,
   "metadata": {},
   "outputs": [],
   "source": [
    "import numpy as np\n",
    "pi = np.pi"
   ]
  },
  {
   "cell_type": "code",
   "execution_count": 29,
   "metadata": {},
   "outputs": [],
   "source": [
    "wq_list = np.loadtxt('qubit_params/T_FOR_E_lvl_Ec0.280_Ej14.000.txt')\n",
    "\n",
    "Nq = 2\n",
    "Nr = 10\n",
    "wr = 7.5\n",
    "\n",
    "wq_tmp = np.zeros( (Nq,Nq), dtype='float64' )\n",
    "for i in range(Nq):\n",
    "    wq_tmp[i,i] = wq_list[i]\n",
    "wq = np.kron( wq_tmp, np.identity(Nr) )\n",
    "\n",
    "a_temp = np.zeros( (Nr,Nr) )\n",
    "for i in range(Nr-1):\n",
    "\ta_temp[i,i+1] = np.sqrt(i+1) \n",
    "a = np.kron( np.identity(Nq), a_temp )\n",
    "a_dag = np.transpose( a )\n",
    "\n",
    "H_0 = wq + wr*a_dag.dot(a)"
   ]
  },
  {
   "cell_type": "code",
   "execution_count": 30,
   "metadata": {},
   "outputs": [
    {
     "name": "stdout",
     "output_type": "stream",
     "text": [
      "bare_qubit_eigs = [ 0.          5.3037373  10.28569215 14.90811546]\n",
      "anh = -0.32178244818311263\n"
     ]
    }
   ],
   "source": [
    "print( 'bare_qubit_eigs =', wq_list[0:4] )\n",
    "print( 'anh =', wq_list[2]-2*wq_list[1] )"
   ]
  },
  {
   "cell_type": "markdown",
   "metadata": {},
   "source": [
    "### TRANSVERSE COUPLING ###"
   ]
  },
  {
   "cell_type": "code",
   "execution_count": 31,
   "metadata": {},
   "outputs": [
    {
     "name": "stdout",
     "output_type": "stream",
     "text": [
      "===================================================\n",
      "-- Diagonalisation Transmon\n",
      "eig_vals = [ 0.          5.28041783  7.52331683 12.75758813 15.04614125 20.23522197]\n",
      "wc_qubit_excited_T =  7.477170302946849\n",
      "wc_qubit_ground_T =  7.523316834127647\n",
      "2*ki =  -0.046146531180798256\n",
      "w_q mean =  7.500243568537249\n"
     ]
    }
   ],
   "source": [
    "#g_qr = -0.159\n",
    "g_qr_T = 0.25\n",
    "charge_op= np.loadtxt( 'qubit_params/T_FOR_Charge_Mat_Ec0.280_Ej14.000.txt' )\n",
    "gij = g_qr_T*np.kron( charge_op[:Nq,:Nq] , np.identity(Nr) )\n",
    "\n",
    "H_T = H_0 + gij.dot( a + a_dag )\n",
    "eig_vals, eig_vecs = np.linalg.eig( H_T )\n",
    "sorted_indices = list( np.argsort(eig_vals) )\n",
    "eig_vecs_T = eig_vecs[:,sorted_indices]\n",
    "eig_vals_T = eig_vals[sorted_indices]\n",
    "eig_vals_T = np.real( eig_vals_T - eig_vals_T[0] )\n",
    "\n",
    "wc_qubit_excited_T = eig_vals_T[3] - eig_vals_T[1] \n",
    "wc_qubit_ground_T = eig_vals_T[2] \n",
    "wc_mean_T = (wc_qubit_excited_T + wc_qubit_ground_T)/2\n",
    "\n",
    "print(\"===================================================\")\n",
    "print(\"-- Diagonalisation Transmon\")\n",
    "print('eig_vals =', eig_vals_T[0:6] )\n",
    "print('wc_qubit_excited_T = ', wc_qubit_excited_T)\n",
    "print('wc_qubit_ground_T = ', wc_qubit_ground_T)\n",
    "print('2*ki = ', wc_qubit_excited_T - wc_qubit_ground_T)\n",
    "print(\"w_q mean = \", wc_mean_T)"
   ]
  },
  {
   "cell_type": "code",
   "execution_count": 32,
   "metadata": {},
   "outputs": [
    {
     "name": "stdout",
     "output_type": "stream",
     "text": [
      "0.999618692778089\n"
     ]
    },
    {
     "data": {
      "text/plain": [
       "array([ 1.  ,  0.  ,  0.  ,  0.  ,  0.  ,  0.  ,  0.  ,  0.  ,  0.  ,\n",
       "        0.  , -0.  , -0.02, -0.  , -0.  , -0.  , -0.  , -0.  , -0.  ,\n",
       "       -0.  , -0.  ])"
      ]
     },
     "execution_count": 32,
     "metadata": {},
     "output_type": "execute_result"
    }
   ],
   "source": [
    "print(eig_vecs_T[:4,0].dot(eig_vecs_T[:4,0]))\n",
    "np.round(eig_vecs_T[:,0],3)"
   ]
  },
  {
   "cell_type": "code",
   "execution_count": 33,
   "metadata": {},
   "outputs": [
    {
     "name": "stdout",
     "output_type": "stream",
     "text": [
      "1.0000000000000002\n"
     ]
    },
    {
     "data": {
      "text/plain": [
       "array([-0.   ,  0.112,  0.   ,  0.   ,  0.   ,  0.   ,  0.   ,  0.   ,\n",
       "        0.   ,  0.   , -0.994,  0.   , -0.003, -0.   , -0.   , -0.   ,\n",
       "       -0.   ,  0.   , -0.   , -0.   ])"
      ]
     },
     "execution_count": 33,
     "metadata": {},
     "output_type": "execute_result"
    }
   ],
   "source": [
    "print(eig_vecs_T[:,1].dot(eig_vecs_T[:,1]))\n",
    "np.round(eig_vecs_T[:,1],3)"
   ]
  },
  {
   "cell_type": "markdown",
   "metadata": {},
   "source": [
    "### LONGITUDINAL COUPLING ###"
   ]
  },
  {
   "cell_type": "code",
   "execution_count": 18,
   "metadata": {},
   "outputs": [
    {
     "name": "stdout",
     "output_type": "stream",
     "text": [
      "===================================================\n",
      "-- Diagonalisation Quantromon\n",
      "eigs = [ 0.          5.30373779  7.50677703 12.80931405 15.01355407 20.31489031]\n",
      "wc_qubit_excited_L =  9.709816276167867\n",
      "wc_qubit_ground_L =  7.506777034714152\n",
      "2*ki =  2.203039241453715\n",
      "w_q mean =  8.60829665544101\n"
     ]
    }
   ],
   "source": [
    "g_qr_L = 0.00369\n",
    "cos_phi_q_op= np.loadtxt('qubit_params/FOR_Cos_Phi_q_Mat_Ec0.190_Ej14.368.txt')\n",
    "gij = g_qr_L*np.kron( cos_phi_q_op[:Nq,:Nq] , np.identity(Nr) )\n",
    "\n",
    "H_L = H_0 + gij.dot( a.dot(a) + a_dag.dot(a_dag) + 2*a_dag.dot(a) )\n",
    "eigs_L = np.sort( np.linalg.eig( H_L )[0] )\n",
    "eigs_L = np.real( eigs_L - eigs_L[0] )\n",
    "wc_qubit_excited_L = eigs_L[4] - eigs_L[1] \n",
    "wc_qubit_ground_L = eigs_L[2] \n",
    "wc_mean_L = (wc_qubit_excited_L + wc_qubit_ground_L)/2\n",
    "\n",
    "print(\"===================================================\")\n",
    "print(\"-- Diagonalisation Quantromon\")\n",
    "print('eigs =', eigs_L[0:6] )\n",
    "print('wc_qubit_excited_L = ', wc_qubit_excited_L)\n",
    "print('wc_qubit_ground_L = ', wc_qubit_ground_L)\n",
    "print('2*ki = ', wc_qubit_excited_L - wc_qubit_ground_L)\n",
    "print(\"w_q mean = \", wc_mean_L)"
   ]
  },
  {
   "cell_type": "code",
   "execution_count": 6,
   "metadata": {},
   "outputs": [
    {
     "data": {
      "text/plain": [
       "-29.0650406504065"
      ]
     },
     "execution_count": 6,
     "metadata": {},
     "output_type": "execute_result"
    }
   ],
   "source": [
    "g_qr_T / g_qr_L"
   ]
  },
  {
   "cell_type": "code",
   "execution_count": null,
   "metadata": {},
   "outputs": [],
   "source": []
  }
 ],
 "metadata": {
  "kernelspec": {
   "display_name": "Python 3 (ipykernel)",
   "language": "python",
   "name": "python3"
  },
  "language_info": {
   "codemirror_mode": {
    "name": "ipython",
    "version": 3
   },
   "file_extension": ".py",
   "mimetype": "text/x-python",
   "name": "python",
   "nbconvert_exporter": "python",
   "pygments_lexer": "ipython3",
   "version": "3.8.16"
  }
 },
 "nbformat": 4,
 "nbformat_minor": 4
}
