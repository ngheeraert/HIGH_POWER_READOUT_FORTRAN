{
 "cells": [
  {
   "cell_type": "code",
   "execution_count": 40,
   "id": "65ba5d6e-6d13-4808-a036-f90caca25555",
   "metadata": {},
   "outputs": [],
   "source": [
    "import numpy as np\n",
    "\n",
    "h = 6.6260715e-34\n",
    "hbar = h/(2*np.pi)\n",
    "e=1.602e-19\n",
    "phi0 = hbar/(2*e)"
   ]
  },
  {
   "cell_type": "code",
   "execution_count": 41,
   "id": "2153a7b8-a246-40bd-8ab7-8246f3a4f52d",
   "metadata": {},
   "outputs": [
    {
     "name": "stdout",
     "output_type": "stream",
     "text": [
      "EJr/h =  1439.6049858127153\n",
      "ECr/h =  0.0047954523136239675\n",
      "wr/2pi =  7.431585058341288\n",
      "wq/2pi =  4.349030472036828\n",
      "Ej/Ec =  300202.1272785408\n"
     ]
    }
   ],
   "source": [
    "#-- quantromon parameters\n",
    "N=151\n",
    "L=458E-12\n",
    "Cr=988E-15\n",
    "Cq=43.2E-15 * 2\n",
    "LJ=28E-9\n",
    "\n",
    "EJ=(phi0**2)/LJ\n",
    "ECq = (e**2)/(2*Cq)\n",
    "EJr = (phi0**2)*( 2/LJ + 4/L )\n",
    "ELr = (phi0**2)*( 4/L )\n",
    "ECr = (e**2)/( 2*( Cq + 4*Cr ) )\n",
    "eta = np.sqrt( 2*ECr/ELr )\n",
    "EJq = EJ*(2-eta)\n",
    "\n",
    "\n",
    "print( 'EJr/h = ', (EJr/h)*1e-9 )\n",
    "print( 'ECr/h = ', (ECr/h)*1e-9 )\n",
    "print( 'wr/2pi = ', ( np.sqrt(8*EJr*ECr)/h  )*1e-9 )\n",
    "print( 'wq/2pi = ', ( np.sqrt(8*EJq*ECq)/h - ECq/h  )*1e-9 )\n",
    "print( 'Ej/Ec = ', EJr/ECr )"
   ]
  },
  {
   "cell_type": "code",
   "execution_count": 42,
   "id": "d5fb1acb-c322-4541-a88c-837cf05c2104",
   "metadata": {},
   "outputs": [
    {
     "name": "stdout",
     "output_type": "stream",
     "text": [
      "3.0333708964749724e-39\n"
     ]
    }
   ],
   "source": [
    "eta = np.sqrt( 2*ECa/ELa )\n",
    "print( (phi0**2)*LJ )"
   ]
  },
  {
   "cell_type": "code",
   "execution_count": 43,
   "id": "31e57e83-1c6e-426c-a2c6-581a1c32d5b7",
   "metadata": {},
   "outputs": [
    {
     "data": {
      "text/plain": [
       "0.32343288938043774"
      ]
     },
     "execution_count": 43,
     "metadata": {},
     "output_type": "execute_result"
    }
   ],
   "source": [
    "eta = ( 8*ECa/EJa )**(1/4) / np.sqrt(2)\n",
    "( eta*(2*10) ) / np.pi"
   ]
  },
  {
   "cell_type": "code",
   "execution_count": 44,
   "id": "f4c56634-cf74-4ff1-a4e7-4e9863efa07a",
   "metadata": {},
   "outputs": [
    {
     "name": "stdout",
     "output_type": "stream",
     "text": [
      "EJa/h =  181.01137238541904\n",
      "ECa/h =  0.04224684690955287\n",
      "wr/2pi =  7.82159049710728\n",
      "Eja/Eca =  4284.612595419251\n"
     ]
    }
   ],
   "source": [
    "#-- nico roch parameters\n",
    "L=5.32E-9\n",
    "Cs=110E-15\n",
    "Ct=59.6E-15\n",
    "LJ=5.63E-9\n",
    "\n",
    "#-- nico paper expressions\n",
    "EJa = phi0**2*( 2/LJ + 4/L )\n",
    "#EJa = phi0**2*( 4/L )\n",
    "ECa = e**2/(4*(Cs+2*Ct))\n",
    "\n",
    "print('EJa/h = ', (EJa/h)*1e-9  )\n",
    "print('ECa/h = ', (ECa/h)*1e-9  )\n",
    "print( 'wr/2pi = ', ( np.sqrt(8*EJa*ECa)/h )*1e-9 )\n",
    "print( 'Eja/Eca = ', EJa/ECa )"
   ]
  },
  {
   "cell_type": "code",
   "execution_count": 45,
   "id": "e2630671-c4cb-4643-a441-fb4c1fb567fd",
   "metadata": {},
   "outputs": [
    {
     "data": {
      "text/plain": [
       "0.9357497760503539"
      ]
     },
     "execution_count": 45,
     "metadata": {},
     "output_type": "execute_result"
    }
   ],
   "source": [
    "eta = ( 8*ECa/EJa )**(1/4) / np.sqrt(2)\n",
    "( eta*(2*10) ) / np.pi"
   ]
  },
  {
   "cell_type": "code",
   "execution_count": 46,
   "id": "c67bec9e-987a-4f18-8c8d-a3cc112b3684",
   "metadata": {},
   "outputs": [
    {
     "name": "stdout",
     "output_type": "stream",
     "text": [
      "EJr/h =  181.01137238541904\n",
      "ECr/h =  0.04224684690955287\n",
      "wr/2pi =  7.82159049710728\n",
      "wq/2pi =  6.307400604310064\n",
      "Ej/Ec =  4284.612595419251\n"
     ]
    }
   ],
   "source": [
    "#-- nico roch parameters\n",
    "L=5.32E-9\n",
    "Cs=110E-15\n",
    "Cq = Cs*2\n",
    "Cr=59.6E-15\n",
    "LJ=5.63E-9\n",
    "\n",
    "EJ=(phi0**2)/LJ\n",
    "ECq = (e**2)/(2*Cq)\n",
    "EJr = (phi0**2)*( 2/LJ + 4/L )\n",
    "ELr = (phi0**2)*( 4/L )\n",
    "ECr = (e**2)/( 2*( Cq + 4*Cr ) )\n",
    "eta = np.sqrt( 2*ECr/ELr )\n",
    "#EJq = EJ*(2-eta)\n",
    "EJq = 2*EJ\n",
    "\n",
    "print( 'EJr/h = ', (EJr/h)*1e-9 )\n",
    "print( 'ECr/h = ', (ECr/h)*1e-9 )\n",
    "print( 'wr/2pi = ', ( np.sqrt(8*EJr*ECr)/h  )*1e-9 )\n",
    "print( 'wq/2pi = ', ( np.sqrt(8*EJq*ECq)/h - ECq/h  )*1e-9 )\n",
    "print( 'Ej/Ec = ', EJr/ECr )"
   ]
  },
  {
   "cell_type": "code",
   "execution_count": null,
   "id": "fa0d9f08-7339-4b54-9225-9b976af504d4",
   "metadata": {},
   "outputs": [],
   "source": []
  },
  {
   "cell_type": "code",
   "execution_count": null,
   "id": "36c2ee8f-6306-42c4-a02c-500b634c239b",
   "metadata": {},
   "outputs": [],
   "source": []
  },
  {
   "cell_type": "code",
   "execution_count": null,
   "id": "d5f9a038-dfb9-4596-a4e7-9c57a155ffc7",
   "metadata": {},
   "outputs": [],
   "source": []
  }
 ],
 "metadata": {
  "kernelspec": {
   "display_name": "Python 3 (ipykernel)",
   "language": "python",
   "name": "python3"
  },
  "language_info": {
   "codemirror_mode": {
    "name": "ipython",
    "version": 3
   },
   "file_extension": ".py",
   "mimetype": "text/x-python",
   "name": "python",
   "nbconvert_exporter": "python",
   "pygments_lexer": "ipython3",
   "version": "3.8.16"
  }
 },
 "nbformat": 4,
 "nbformat_minor": 5
}
